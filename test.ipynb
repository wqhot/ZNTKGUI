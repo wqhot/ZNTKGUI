{
 "cells": [
  {
   "cell_type": "code",
   "execution_count": 2,
   "id": "206a73bd",
   "metadata": {},
   "outputs": [],
   "source": [
    "import numpy as np\n",
    "import cv2"
   ]
  },
  {
   "cell_type": "code",
   "execution_count": null,
   "id": "1f6442b8",
   "metadata": {},
   "outputs": [],
   "source": [
    "objpoint = np.zeros((1, 5, 3), dtype=np.float32)\n",
    "objpoint[0, 0, :] = np.array([-0.10316, -0.076999999999999999, 0.5])\n",
    "objpoint[0, 1, :] = np.array([-0.10316, 0, 0.5])\n",
    "objpoint[0, 2, :] = np.array([-0.10316, 0.074090000000000003, 0.5])\n",
    "objpoint[0, 3, :] = np.array([0.10316, -0.076999999999999999, 0.5])\n",
    "objpoint[0, 4, :] = np.array([0.10316, -0.074090000000000003, 0.5])\n"
   ]
  }
 ],
 "metadata": {
  "kernelspec": {
   "display_name": "Python 3",
   "language": "python",
   "name": "python3"
  },
  "language_info": {
   "codemirror_mode": {
    "name": "ipython",
    "version": 3
   },
   "file_extension": ".py",
   "mimetype": "text/x-python",
   "name": "python",
   "nbconvert_exporter": "python",
   "pygments_lexer": "ipython3",
   "version": "3.8.8"
  }
 },
 "nbformat": 4,
 "nbformat_minor": 5
}
